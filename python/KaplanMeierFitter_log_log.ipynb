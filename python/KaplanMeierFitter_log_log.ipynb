{
 "cells": [
  {
   "cell_type": "code",
   "execution_count": 1,
   "id": "f898ea3d-934e-4df7-8a01-9c7f908f6aba",
   "metadata": {},
   "outputs": [],
   "source": [
    "import pandas as pd\n",
    "from lifelines import KaplanMeierFitter\n",
    "from lifelines.statistics import logrank_test"
   ]
  },
  {
   "cell_type": "code",
   "execution_count": 2,
   "id": "c419bc57-d048-43ad-8aeb-b5f31389ad86",
   "metadata": {},
   "outputs": [
    {
     "data": {
      "text/html": [
       "<div>\n",
       "<style scoped>\n",
       "    .dataframe tbody tr th:only-of-type {\n",
       "        vertical-align: middle;\n",
       "    }\n",
       "\n",
       "    .dataframe tbody tr th {\n",
       "        vertical-align: top;\n",
       "    }\n",
       "\n",
       "    .dataframe thead th {\n",
       "        text-align: right;\n",
       "    }\n",
       "</style>\n",
       "<table border=\"1\" class=\"dataframe\">\n",
       "  <thead>\n",
       "    <tr style=\"text-align: right;\">\n",
       "      <th></th>\n",
       "      <th>ID</th>\n",
       "      <th>AGE</th>\n",
       "      <th>GENDER</th>\n",
       "      <th>HR</th>\n",
       "      <th>SYSBP</th>\n",
       "      <th>DIASBP</th>\n",
       "      <th>BMI</th>\n",
       "      <th>CVD</th>\n",
       "      <th>AFB</th>\n",
       "      <th>SHO</th>\n",
       "      <th>CHF</th>\n",
       "      <th>AV3</th>\n",
       "      <th>MIORD</th>\n",
       "      <th>MITYPE</th>\n",
       "      <th>YEAR</th>\n",
       "      <th>LOS</th>\n",
       "      <th>DSTAT</th>\n",
       "      <th>LENFOL</th>\n",
       "      <th>FSTAT</th>\n",
       "    </tr>\n",
       "  </thead>\n",
       "  <tbody>\n",
       "    <tr>\n",
       "      <th>0</th>\n",
       "      <td>1.0</td>\n",
       "      <td>83.0</td>\n",
       "      <td>0.0</td>\n",
       "      <td>89.0</td>\n",
       "      <td>152.0</td>\n",
       "      <td>78.0</td>\n",
       "      <td>25.540510</td>\n",
       "      <td>1.0</td>\n",
       "      <td>1.0</td>\n",
       "      <td>0.0</td>\n",
       "      <td>0.0</td>\n",
       "      <td>0.0</td>\n",
       "      <td>1.0</td>\n",
       "      <td>0.0</td>\n",
       "      <td>1.0</td>\n",
       "      <td>5.0</td>\n",
       "      <td>0.0</td>\n",
       "      <td>2178.0</td>\n",
       "      <td>0.0</td>\n",
       "    </tr>\n",
       "    <tr>\n",
       "      <th>1</th>\n",
       "      <td>2.0</td>\n",
       "      <td>49.0</td>\n",
       "      <td>0.0</td>\n",
       "      <td>84.0</td>\n",
       "      <td>120.0</td>\n",
       "      <td>60.0</td>\n",
       "      <td>24.023979</td>\n",
       "      <td>1.0</td>\n",
       "      <td>0.0</td>\n",
       "      <td>0.0</td>\n",
       "      <td>0.0</td>\n",
       "      <td>0.0</td>\n",
       "      <td>0.0</td>\n",
       "      <td>1.0</td>\n",
       "      <td>1.0</td>\n",
       "      <td>5.0</td>\n",
       "      <td>0.0</td>\n",
       "      <td>2172.0</td>\n",
       "      <td>0.0</td>\n",
       "    </tr>\n",
       "    <tr>\n",
       "      <th>2</th>\n",
       "      <td>3.0</td>\n",
       "      <td>70.0</td>\n",
       "      <td>1.0</td>\n",
       "      <td>83.0</td>\n",
       "      <td>147.0</td>\n",
       "      <td>88.0</td>\n",
       "      <td>22.142900</td>\n",
       "      <td>0.0</td>\n",
       "      <td>0.0</td>\n",
       "      <td>0.0</td>\n",
       "      <td>0.0</td>\n",
       "      <td>0.0</td>\n",
       "      <td>0.0</td>\n",
       "      <td>1.0</td>\n",
       "      <td>1.0</td>\n",
       "      <td>5.0</td>\n",
       "      <td>0.0</td>\n",
       "      <td>2190.0</td>\n",
       "      <td>0.0</td>\n",
       "    </tr>\n",
       "    <tr>\n",
       "      <th>3</th>\n",
       "      <td>4.0</td>\n",
       "      <td>70.0</td>\n",
       "      <td>0.0</td>\n",
       "      <td>65.0</td>\n",
       "      <td>123.0</td>\n",
       "      <td>76.0</td>\n",
       "      <td>26.631870</td>\n",
       "      <td>1.0</td>\n",
       "      <td>0.0</td>\n",
       "      <td>0.0</td>\n",
       "      <td>1.0</td>\n",
       "      <td>0.0</td>\n",
       "      <td>0.0</td>\n",
       "      <td>1.0</td>\n",
       "      <td>1.0</td>\n",
       "      <td>10.0</td>\n",
       "      <td>0.0</td>\n",
       "      <td>297.0</td>\n",
       "      <td>1.0</td>\n",
       "    </tr>\n",
       "    <tr>\n",
       "      <th>4</th>\n",
       "      <td>5.0</td>\n",
       "      <td>70.0</td>\n",
       "      <td>0.0</td>\n",
       "      <td>63.0</td>\n",
       "      <td>135.0</td>\n",
       "      <td>85.0</td>\n",
       "      <td>24.412550</td>\n",
       "      <td>1.0</td>\n",
       "      <td>0.0</td>\n",
       "      <td>0.0</td>\n",
       "      <td>0.0</td>\n",
       "      <td>0.0</td>\n",
       "      <td>0.0</td>\n",
       "      <td>1.0</td>\n",
       "      <td>1.0</td>\n",
       "      <td>6.0</td>\n",
       "      <td>0.0</td>\n",
       "      <td>2131.0</td>\n",
       "      <td>0.0</td>\n",
       "    </tr>\n",
       "  </tbody>\n",
       "</table>\n",
       "</div>"
      ],
      "text/plain": [
       "    ID   AGE  GENDER    HR  SYSBP  DIASBP        BMI  CVD  AFB  SHO  CHF  AV3  \\\n",
       "0  1.0  83.0     0.0  89.0  152.0    78.0  25.540510  1.0  1.0  0.0  0.0  0.0   \n",
       "1  2.0  49.0     0.0  84.0  120.0    60.0  24.023979  1.0  0.0  0.0  0.0  0.0   \n",
       "2  3.0  70.0     1.0  83.0  147.0    88.0  22.142900  0.0  0.0  0.0  0.0  0.0   \n",
       "3  4.0  70.0     0.0  65.0  123.0    76.0  26.631870  1.0  0.0  0.0  1.0  0.0   \n",
       "4  5.0  70.0     0.0  63.0  135.0    85.0  24.412550  1.0  0.0  0.0  0.0  0.0   \n",
       "\n",
       "   MIORD  MITYPE  YEAR   LOS  DSTAT  LENFOL  FSTAT  \n",
       "0    1.0     0.0   1.0   5.0    0.0  2178.0    0.0  \n",
       "1    0.0     1.0   1.0   5.0    0.0  2172.0    0.0  \n",
       "2    0.0     1.0   1.0   5.0    0.0  2190.0    0.0  \n",
       "3    0.0     1.0   1.0  10.0    0.0   297.0    1.0  \n",
       "4    0.0     1.0   1.0   6.0    0.0  2131.0    0.0  "
      ]
     },
     "execution_count": 2,
     "metadata": {},
     "output_type": "execute_result"
    }
   ],
   "source": [
    "df = pd.read_sas('whas500.sas7bdat')\n",
    "df.head()"
   ]
  },
  {
   "cell_type": "code",
   "execution_count": 3,
   "id": "d002438a-004f-4aec-b285-919e65f397c9",
   "metadata": {},
   "outputs": [],
   "source": [
    "df = df[[\"LENFOL\", \"AFB\", \"FSTAT\"]]"
   ]
  },
  {
   "cell_type": "code",
   "execution_count": 4,
   "id": "d51337a7-719f-4d22-ab50-b14917ec2906",
   "metadata": {},
   "outputs": [],
   "source": [
    "df['LENFOL'] = df['LENFOL']/365.25\n",
    "df['LENFOL'] = df['LENFOL'].round(decimals = 2)"
   ]
  },
  {
   "cell_type": "code",
   "execution_count": 5,
   "id": "81042c28-e304-4283-91be-bb6020747b6e",
   "metadata": {},
   "outputs": [],
   "source": [
    "# Create Kaplan-Meier estimator\n",
    "kmf = KaplanMeierFitter()"
   ]
  },
  {
   "cell_type": "code",
   "execution_count": 7,
   "id": "edd59605-9c5c-4e93-b81b-3aab4a6f391e",
   "metadata": {},
   "outputs": [
    {
     "data": {
      "image/png": "[encoded data removed]",
      "text/plain": [
       "<Figure size 640x480 with 1 Axes>"
      ]
     },
     "metadata": {},
     "output_type": "display_data"
    }
   ],
   "source": [
    "# Fit Kaplan-Meier estimator to groups\n",
    "groups = df['AFB'].unique()\n",
    "for group in groups:\n",
    "   group_data = df[df['AFB'] == group]\n",
    "   kmf.fit(group_data['LENFOL'], event_observed=group_data['FSTAT'], label=group)\n",
    "   kmf.plot()"
   ]
  },
  {
   "cell_type": "code",
   "execution_count": 8,
   "id": "c7930c67-fded-41b1-a939-1ffb0f3e7cd6",
   "metadata": {},
   "outputs": [],
   "source": [
    "# Log-rank test\n",
    "results = logrank_test(df[df['AFB'] == 1.0 ]['LENFOL'],\n",
    "                      df[df['AFB'] == 0.0 ]['LENFOL'],\n",
    "                      event_observed_A=df[df['AFB'] == 1.0 ]['FSTAT'],\n",
    "                      event_observed_B=df[df['AFB'] == 0.0 ]['FSTAT'])"
   ]
  },
  {
   "cell_type": "code",
   "execution_count": 9,
   "id": "e0d09027-a7e6-4917-a691-da113288d54d",
   "metadata": {},
   "outputs": [
    {
     "name": "stdout",
     "output_type": "stream",
     "text": [
      "Log-Rank Test Results:\n",
      "p-value: 0.0009646026542308663\n",
      "test statistic: 10.894307111437298\n"
     ]
    }
   ],
   "source": [
    "# Display log-rank test results\n",
    "print(\"Log-Rank Test Results:\")\n",
    "print(\"p-value:\", results.p_value)\n",
    "print(\"test statistic:\", results.test_statistic)"
   ]
  },
  {
   "cell_type": "code",
   "execution_count": 10,
   "id": "1dfd8a1a-9d2f-41c6-ac75-3165fb56fd55",
   "metadata": {},
   "outputs": [
    {
     "name": "stdout",
     "output_type": "stream",
     "text": [
      "Log-Log Confidence Interval for Group B:\n",
      "      0.0_lower_0.95  0.0_upper_0.95\n",
      "0.00        0.968628        0.993587\n",
      "0.01        0.933150        0.972911\n",
      "0.02        0.908081        0.955672\n",
      "0.03        0.894472        0.945764\n",
      "0.04        0.891771        0.943761\n",
      "...              ...             ...\n",
      "5.94        0.345753        0.565624\n",
      "5.95        0.345753        0.565624\n",
      "6.00        0.345753        0.565624\n",
      "6.44        0.021751        0.568185\n",
      "6.46        0.000000        0.000000\n",
      "\n",
      "[246 rows x 2 columns]\n"
     ]
    }
   ],
   "source": [
    "# Calculate log-log confidence interval\n",
    "confidence_interval = kmf.confidence_interval_survival_function_\n",
    "print(\"Log-Log Confidence Interval for Group B:\")\n",
    "print(confidence_interval)"
   ]
  }
 ],
 "metadata": {
  "kernelspec": {
   "display_name": "Python 3 (ipykernel)",
   "language": "python",
   "name": "python3"
  },
  "language_info": {
   "codemirror_mode": {
    "name": "ipython",
    "version": 3
   },
   "file_extension": ".py",
   "mimetype": "text/x-python",
   "name": "python",
   "nbconvert_exporter": "python",
   "pygments_lexer": "ipython3",
   "version": "3.9.5"
  }
 },
 "nbformat": 4,
 "nbformat_minor": 5
}
