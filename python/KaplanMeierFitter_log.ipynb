{
 "cells": [
  {
   "cell_type": "code",
   "execution_count": 1,
   "id": "63383fe0-aab8-4b33-a5d3-430a3c1c8aa7",
   "metadata": {},
   "outputs": [],
   "source": [
    "import pandas as pd\n",
    "from lifelines import KaplanMeierFitter"
   ]
  },
  {
   "cell_type": "code",
   "execution_count": 2,
   "id": "26c3ec31-9556-4149-9ea1-0a4fad1ec355",
   "metadata": {},
   "outputs": [
    {
     "data": {
      "text/html": [
       "<div>\n",
       "<style scoped>\n",
       "    .dataframe tbody tr th:only-of-type {\n",
       "        vertical-align: middle;\n",
       "    }\n",
       "\n",
       "    .dataframe tbody tr th {\n",
       "        vertical-align: top;\n",
       "    }\n",
       "\n",
       "    .dataframe thead th {\n",
       "        text-align: right;\n",
       "    }\n",
       "</style>\n",
       "<table border=\"1\" class=\"dataframe\">\n",
       "  <thead>\n",
       "    <tr style=\"text-align: right;\">\n",
       "      <th></th>\n",
       "      <th>ID</th>\n",
       "      <th>AGE</th>\n",
       "      <th>GENDER</th>\n",
       "      <th>HR</th>\n",
       "      <th>SYSBP</th>\n",
       "      <th>DIASBP</th>\n",
       "      <th>BMI</th>\n",
       "      <th>CVD</th>\n",
       "      <th>AFB</th>\n",
       "      <th>SHO</th>\n",
       "      <th>CHF</th>\n",
       "      <th>AV3</th>\n",
       "      <th>MIORD</th>\n",
       "      <th>MITYPE</th>\n",
       "      <th>YEAR</th>\n",
       "      <th>LOS</th>\n",
       "      <th>DSTAT</th>\n",
       "      <th>LENFOL</th>\n",
       "      <th>FSTAT</th>\n",
       "    </tr>\n",
       "  </thead>\n",
       "  <tbody>\n",
       "    <tr>\n",
       "      <th>0</th>\n",
       "      <td>1.0</td>\n",
       "      <td>83.0</td>\n",
       "      <td>0.0</td>\n",
       "      <td>89.0</td>\n",
       "      <td>152.0</td>\n",
       "      <td>78.0</td>\n",
       "      <td>25.540510</td>\n",
       "      <td>1.0</td>\n",
       "      <td>1.0</td>\n",
       "      <td>0.0</td>\n",
       "      <td>0.0</td>\n",
       "      <td>0.0</td>\n",
       "      <td>1.0</td>\n",
       "      <td>0.0</td>\n",
       "      <td>1.0</td>\n",
       "      <td>5.0</td>\n",
       "      <td>0.0</td>\n",
       "      <td>2178.0</td>\n",
       "      <td>0.0</td>\n",
       "    </tr>\n",
       "    <tr>\n",
       "      <th>1</th>\n",
       "      <td>2.0</td>\n",
       "      <td>49.0</td>\n",
       "      <td>0.0</td>\n",
       "      <td>84.0</td>\n",
       "      <td>120.0</td>\n",
       "      <td>60.0</td>\n",
       "      <td>24.023979</td>\n",
       "      <td>1.0</td>\n",
       "      <td>0.0</td>\n",
       "      <td>0.0</td>\n",
       "      <td>0.0</td>\n",
       "      <td>0.0</td>\n",
       "      <td>0.0</td>\n",
       "      <td>1.0</td>\n",
       "      <td>1.0</td>\n",
       "      <td>5.0</td>\n",
       "      <td>0.0</td>\n",
       "      <td>2172.0</td>\n",
       "      <td>0.0</td>\n",
       "    </tr>\n",
       "    <tr>\n",
       "      <th>2</th>\n",
       "      <td>3.0</td>\n",
       "      <td>70.0</td>\n",
       "      <td>1.0</td>\n",
       "      <td>83.0</td>\n",
       "      <td>147.0</td>\n",
       "      <td>88.0</td>\n",
       "      <td>22.142900</td>\n",
       "      <td>0.0</td>\n",
       "      <td>0.0</td>\n",
       "      <td>0.0</td>\n",
       "      <td>0.0</td>\n",
       "      <td>0.0</td>\n",
       "      <td>0.0</td>\n",
       "      <td>1.0</td>\n",
       "      <td>1.0</td>\n",
       "      <td>5.0</td>\n",
       "      <td>0.0</td>\n",
       "      <td>2190.0</td>\n",
       "      <td>0.0</td>\n",
       "    </tr>\n",
       "    <tr>\n",
       "      <th>3</th>\n",
       "      <td>4.0</td>\n",
       "      <td>70.0</td>\n",
       "      <td>0.0</td>\n",
       "      <td>65.0</td>\n",
       "      <td>123.0</td>\n",
       "      <td>76.0</td>\n",
       "      <td>26.631870</td>\n",
       "      <td>1.0</td>\n",
       "      <td>0.0</td>\n",
       "      <td>0.0</td>\n",
       "      <td>1.0</td>\n",
       "      <td>0.0</td>\n",
       "      <td>0.0</td>\n",
       "      <td>1.0</td>\n",
       "      <td>1.0</td>\n",
       "      <td>10.0</td>\n",
       "      <td>0.0</td>\n",
       "      <td>297.0</td>\n",
       "      <td>1.0</td>\n",
       "    </tr>\n",
       "    <tr>\n",
       "      <th>4</th>\n",
       "      <td>5.0</td>\n",
       "      <td>70.0</td>\n",
       "      <td>0.0</td>\n",
       "      <td>63.0</td>\n",
       "      <td>135.0</td>\n",
       "      <td>85.0</td>\n",
       "      <td>24.412550</td>\n",
       "      <td>1.0</td>\n",
       "      <td>0.0</td>\n",
       "      <td>0.0</td>\n",
       "      <td>0.0</td>\n",
       "      <td>0.0</td>\n",
       "      <td>0.0</td>\n",
       "      <td>1.0</td>\n",
       "      <td>1.0</td>\n",
       "      <td>6.0</td>\n",
       "      <td>0.0</td>\n",
       "      <td>2131.0</td>\n",
       "      <td>0.0</td>\n",
       "    </tr>\n",
       "  </tbody>\n",
       "</table>\n",
       "</div>"
      ],
      "text/plain": [
       "    ID   AGE  GENDER    HR  SYSBP  DIASBP        BMI  CVD  AFB  SHO  CHF  AV3  \\\n",
       "0  1.0  83.0     0.0  89.0  152.0    78.0  25.540510  1.0  1.0  0.0  0.0  0.0   \n",
       "1  2.0  49.0     0.0  84.0  120.0    60.0  24.023979  1.0  0.0  0.0  0.0  0.0   \n",
       "2  3.0  70.0     1.0  83.0  147.0    88.0  22.142900  0.0  0.0  0.0  0.0  0.0   \n",
       "3  4.0  70.0     0.0  65.0  123.0    76.0  26.631870  1.0  0.0  0.0  1.0  0.0   \n",
       "4  5.0  70.0     0.0  63.0  135.0    85.0  24.412550  1.0  0.0  0.0  0.0  0.0   \n",
       "\n",
       "   MIORD  MITYPE  YEAR   LOS  DSTAT  LENFOL  FSTAT  \n",
       "0    1.0     0.0   1.0   5.0    0.0  2178.0    0.0  \n",
       "1    0.0     1.0   1.0   5.0    0.0  2172.0    0.0  \n",
       "2    0.0     1.0   1.0   5.0    0.0  2190.0    0.0  \n",
       "3    0.0     1.0   1.0  10.0    0.0   297.0    1.0  \n",
       "4    0.0     1.0   1.0   6.0    0.0  2131.0    0.0  "
      ]
     },
     "execution_count": 2,
     "metadata": {},
     "output_type": "execute_result"
    }
   ],
   "source": [
    "df = pd.read_sas('whas500.sas7bdat')\n",
    "df.head()"
   ]
  },
  {
   "cell_type": "code",
   "execution_count": 3,
   "id": "001cf8a7-7e39-4688-b86b-492201bbd417",
   "metadata": {},
   "outputs": [],
   "source": [
    "df = df[[\"LENFOL\", \"AFB\", \"FSTAT\"]]"
   ]
  },
  {
   "cell_type": "code",
   "execution_count": 4,
   "id": "72c1974c-fa30-44bd-93ce-af2e6ab8c7ef",
   "metadata": {},
   "outputs": [],
   "source": [
    "df['LENFOL'] = df['LENFOL']/365.25\n",
    "df['LENFOL'] = df['LENFOL'].round(decimals = 2)"
   ]
  },
  {
   "cell_type": "code",
   "execution_count": 5,
   "id": "939db8d0-05e8-4afb-988b-a94480eee52a",
   "metadata": {},
   "outputs": [],
   "source": [
    "afb_yes = df[df['AFB'] == 1.0]\n",
    "afb_no  = df[df['AFB'] == 0.0]"
   ]
  },
  {
   "cell_type": "code",
   "execution_count": 6,
   "id": "5c8bfc10-df63-469e-83ea-ef851ed5d343",
   "metadata": {},
   "outputs": [],
   "source": [
    "# Create Kaplan-Meier estimator\n",
    "kmf_yes = KaplanMeierFitter()\n",
    "kmf_no = KaplanMeierFitter()"
   ]
  },
  {
   "cell_type": "code",
   "execution_count": 7,
   "id": "52bd1b0c-0577-456b-8810-0f70caba2e8e",
   "metadata": {},
   "outputs": [
    {
     "data": {
      "text/plain": [
       "<lifelines.KaplanMeierFitter:\"KM_estimate\", fitted with 422 total observations, 254 right-censored observations>"
      ]
     },
     "execution_count": 7,
     "metadata": {},
     "output_type": "execute_result"
    }
   ],
   "source": [
    "# Fit Kaplan-Meier estimator to data\n",
    "kmf_yes.fit(afb_yes['LENFOL'], event_observed=afb_yes['FSTAT'])\n",
    "kmf_no.fit(afb_no['LENFOL'], event_observed=afb_no['FSTAT'])"
   ]
  },
  {
   "cell_type": "code",
   "execution_count": 8,
   "id": "78603b49-b638-41cd-8adb-5905b5aaed05",
   "metadata": {},
   "outputs": [],
   "source": [
    "# Calculate confidence interval for the survival function\n",
    "confidence_interval_yes = kmf_yes.confidence_interval_survival_function_\n",
    "confidence_interval_no = kmf_no.confidence_interval_survival_function_"
   ]
  },
  {
   "cell_type": "code",
   "execution_count": 9,
   "id": "56663c6e-7e8a-4544-9102-e74017113d94",
   "metadata": {},
   "outputs": [
    {
     "data": {
      "text/html": [
       "<div>\n",
       "<style scoped>\n",
       "    .dataframe tbody tr th:only-of-type {\n",
       "        vertical-align: middle;\n",
       "    }\n",
       "\n",
       "    .dataframe tbody tr th {\n",
       "        vertical-align: top;\n",
       "    }\n",
       "\n",
       "    .dataframe thead th {\n",
       "        text-align: right;\n",
       "    }\n",
       "</style>\n",
       "<table border=\"1\" class=\"dataframe\">\n",
       "  <thead>\n",
       "    <tr style=\"text-align: right;\">\n",
       "      <th></th>\n",
       "      <th>KM_estimate</th>\n",
       "    </tr>\n",
       "    <tr>\n",
       "      <th>timeline</th>\n",
       "      <th></th>\n",
       "    </tr>\n",
       "  </thead>\n",
       "  <tbody>\n",
       "    <tr>\n",
       "      <th>0.00</th>\n",
       "      <td>0.974359</td>\n",
       "    </tr>\n",
       "    <tr>\n",
       "      <th>0.01</th>\n",
       "      <td>0.935897</td>\n",
       "    </tr>\n",
       "    <tr>\n",
       "      <th>0.02</th>\n",
       "      <td>0.910256</td>\n",
       "    </tr>\n",
       "    <tr>\n",
       "      <th>0.03</th>\n",
       "      <td>0.884615</td>\n",
       "    </tr>\n",
       "    <tr>\n",
       "      <th>0.04</th>\n",
       "      <td>0.858974</td>\n",
       "    </tr>\n",
       "    <tr>\n",
       "      <th>...</th>\n",
       "      <td>...</td>\n",
       "    </tr>\n",
       "    <tr>\n",
       "      <th>5.54</th>\n",
       "      <td>0.314880</td>\n",
       "    </tr>\n",
       "    <tr>\n",
       "      <th>5.65</th>\n",
       "      <td>0.314880</td>\n",
       "    </tr>\n",
       "    <tr>\n",
       "      <th>5.70</th>\n",
       "      <td>0.314880</td>\n",
       "    </tr>\n",
       "    <tr>\n",
       "      <th>5.96</th>\n",
       "      <td>0.314880</td>\n",
       "    </tr>\n",
       "    <tr>\n",
       "      <th>6.43</th>\n",
       "      <td>0.000000</td>\n",
       "    </tr>\n",
       "  </tbody>\n",
       "</table>\n",
       "<p>63 rows × 1 columns</p>\n",
       "</div>"
      ],
      "text/plain": [
       "          KM_estimate\n",
       "timeline             \n",
       "0.00         0.974359\n",
       "0.01         0.935897\n",
       "0.02         0.910256\n",
       "0.03         0.884615\n",
       "0.04         0.858974\n",
       "...               ...\n",
       "5.54         0.314880\n",
       "5.65         0.314880\n",
       "5.70         0.314880\n",
       "5.96         0.314880\n",
       "6.43         0.000000\n",
       "\n",
       "[63 rows x 1 columns]"
      ]
     },
     "execution_count": 9,
     "metadata": {},
     "output_type": "execute_result"
    }
   ],
   "source": [
    "kmf_yes.survival_function_"
   ]
  },
  {
   "cell_type": "code",
   "execution_count": 10,
   "id": "d1861562-c632-48a7-bd03-f584aed575d0",
   "metadata": {},
   "outputs": [
    {
     "data": {
      "text/html": [
       "<div>\n",
       "<style scoped>\n",
       "    .dataframe tbody tr th:only-of-type {\n",
       "        vertical-align: middle;\n",
       "    }\n",
       "\n",
       "    .dataframe tbody tr th {\n",
       "        vertical-align: top;\n",
       "    }\n",
       "\n",
       "    .dataframe thead th {\n",
       "        text-align: right;\n",
       "    }\n",
       "</style>\n",
       "<table border=\"1\" class=\"dataframe\">\n",
       "  <thead>\n",
       "    <tr style=\"text-align: right;\">\n",
       "      <th></th>\n",
       "      <th>KM_estimate</th>\n",
       "    </tr>\n",
       "    <tr>\n",
       "      <th>timeline</th>\n",
       "      <th></th>\n",
       "    </tr>\n",
       "  </thead>\n",
       "  <tbody>\n",
       "    <tr>\n",
       "      <th>0.00</th>\n",
       "      <td>0.985782</td>\n",
       "    </tr>\n",
       "    <tr>\n",
       "      <th>0.01</th>\n",
       "      <td>0.957346</td>\n",
       "    </tr>\n",
       "    <tr>\n",
       "      <th>0.02</th>\n",
       "      <td>0.936019</td>\n",
       "    </tr>\n",
       "    <tr>\n",
       "      <th>0.03</th>\n",
       "      <td>0.924171</td>\n",
       "    </tr>\n",
       "    <tr>\n",
       "      <th>0.04</th>\n",
       "      <td>0.921801</td>\n",
       "    </tr>\n",
       "    <tr>\n",
       "      <th>...</th>\n",
       "      <td>...</td>\n",
       "    </tr>\n",
       "    <tr>\n",
       "      <th>5.94</th>\n",
       "      <td>0.459356</td>\n",
       "    </tr>\n",
       "    <tr>\n",
       "      <th>5.95</th>\n",
       "      <td>0.459356</td>\n",
       "    </tr>\n",
       "    <tr>\n",
       "      <th>6.00</th>\n",
       "      <td>0.459356</td>\n",
       "    </tr>\n",
       "    <tr>\n",
       "      <th>6.44</th>\n",
       "      <td>0.229678</td>\n",
       "    </tr>\n",
       "    <tr>\n",
       "      <th>6.46</th>\n",
       "      <td>0.000000</td>\n",
       "    </tr>\n",
       "  </tbody>\n",
       "</table>\n",
       "<p>246 rows × 1 columns</p>\n",
       "</div>"
      ],
      "text/plain": [
       "          KM_estimate\n",
       "timeline             \n",
       "0.00         0.985782\n",
       "0.01         0.957346\n",
       "0.02         0.936019\n",
       "0.03         0.924171\n",
       "0.04         0.921801\n",
       "...               ...\n",
       "5.94         0.459356\n",
       "5.95         0.459356\n",
       "6.00         0.459356\n",
       "6.44         0.229678\n",
       "6.46         0.000000\n",
       "\n",
       "[246 rows x 1 columns]"
      ]
     },
     "execution_count": 10,
     "metadata": {},
     "output_type": "execute_result"
    }
   ],
   "source": [
    "kmf_no.survival_function_"
   ]
  },
  {
   "cell_type": "code",
   "execution_count": 11,
   "id": "02be2673-cc8d-4f74-b4c5-bc842c91f659",
   "metadata": {},
   "outputs": [],
   "source": [
    "confidence_interval_yes = kmf_yes.confidence_interval_survival_function_\n",
    "confidence_interval_no = kmf_no.confidence_interval_survival_function_"
   ]
  },
  {
   "cell_type": "code",
   "execution_count": 12,
   "id": "b89ce37a-c2eb-4e53-b907-d31101cb1d24",
   "metadata": {},
   "outputs": [],
   "source": [
    "# Calculate log transformation of the confidence interval\n",
    "log_transformed_ci = confidence_interval_yes.applymap(lambda x: -1 * (1 / x - 1))"
   ]
  },
  {
   "cell_type": "code",
   "execution_count": 16,
   "id": "5dead8c9-dfb5-4466-988c-634ea85beab8",
   "metadata": {},
   "outputs": [
    {
     "name": "stdout",
     "output_type": "stream",
     "text": [
      "Log Transformation of Confidence Interval:\n",
      "      KM_estimate_lower_0.95  KM_estimate_upper_0.95\n",
      "0.00                0.901347                0.993525\n",
      "0.01                0.852833                0.972806\n",
      "0.02                0.820953                0.956175\n",
      "0.03                0.789996                0.938225\n",
      "0.04                0.759836                0.919304\n",
      "...                      ...                     ...\n",
      "5.54                0.195172                0.441634\n",
      "5.65                0.195172                0.441634\n",
      "5.70                0.195172                0.441634\n",
      "5.96                0.195172                0.441634\n",
      "6.43                0.000000                0.000000\n",
      "\n",
      "[63 rows x 2 columns]\n"
     ]
    }
   ],
   "source": [
    "print(\"Log Transformation of Confidence Interval:\")\n",
    "print(confidence_interval_yes)"
   ]
  },
  {
   "cell_type": "code",
   "execution_count": 17,
   "id": "0daf87a7-b605-4234-b382-2394f2a14dd5",
   "metadata": {},
   "outputs": [
    {
     "name": "stdout",
     "output_type": "stream",
     "text": [
      "Log Transformation of Confidence Interval ABF=Yes:\n"
     ]
    },
    {
     "data": {
      "text/html": [
       "<div>\n",
       "<style scoped>\n",
       "    .dataframe tbody tr th:only-of-type {\n",
       "        vertical-align: middle;\n",
       "    }\n",
       "\n",
       "    .dataframe tbody tr th {\n",
       "        vertical-align: top;\n",
       "    }\n",
       "\n",
       "    .dataframe thead th {\n",
       "        text-align: right;\n",
       "    }\n",
       "</style>\n",
       "<table border=\"1\" class=\"dataframe\">\n",
       "  <thead>\n",
       "    <tr style=\"text-align: right;\">\n",
       "      <th></th>\n",
       "      <th>KM_estimate_lower_0.95</th>\n",
       "      <th>KM_estimate_upper_0.95</th>\n",
       "    </tr>\n",
       "  </thead>\n",
       "  <tbody>\n",
       "    <tr>\n",
       "      <th>0.00</th>\n",
       "      <td>0.901347</td>\n",
       "      <td>0.993525</td>\n",
       "    </tr>\n",
       "    <tr>\n",
       "      <th>0.01</th>\n",
       "      <td>0.852833</td>\n",
       "      <td>0.972806</td>\n",
       "    </tr>\n",
       "    <tr>\n",
       "      <th>0.02</th>\n",
       "      <td>0.820953</td>\n",
       "      <td>0.956175</td>\n",
       "    </tr>\n",
       "    <tr>\n",
       "      <th>0.03</th>\n",
       "      <td>0.789996</td>\n",
       "      <td>0.938225</td>\n",
       "    </tr>\n",
       "    <tr>\n",
       "      <th>0.04</th>\n",
       "      <td>0.759836</td>\n",
       "      <td>0.919304</td>\n",
       "    </tr>\n",
       "    <tr>\n",
       "      <th>...</th>\n",
       "      <td>...</td>\n",
       "      <td>...</td>\n",
       "    </tr>\n",
       "    <tr>\n",
       "      <th>5.54</th>\n",
       "      <td>0.195172</td>\n",
       "      <td>0.441634</td>\n",
       "    </tr>\n",
       "    <tr>\n",
       "      <th>5.65</th>\n",
       "      <td>0.195172</td>\n",
       "      <td>0.441634</td>\n",
       "    </tr>\n",
       "    <tr>\n",
       "      <th>5.70</th>\n",
       "      <td>0.195172</td>\n",
       "      <td>0.441634</td>\n",
       "    </tr>\n",
       "    <tr>\n",
       "      <th>5.96</th>\n",
       "      <td>0.195172</td>\n",
       "      <td>0.441634</td>\n",
       "    </tr>\n",
       "    <tr>\n",
       "      <th>6.43</th>\n",
       "      <td>0.000000</td>\n",
       "      <td>0.000000</td>\n",
       "    </tr>\n",
       "  </tbody>\n",
       "</table>\n",
       "<p>63 rows × 2 columns</p>\n",
       "</div>"
      ],
      "text/plain": [
       "      KM_estimate_lower_0.95  KM_estimate_upper_0.95\n",
       "0.00                0.901347                0.993525\n",
       "0.01                0.852833                0.972806\n",
       "0.02                0.820953                0.956175\n",
       "0.03                0.789996                0.938225\n",
       "0.04                0.759836                0.919304\n",
       "...                      ...                     ...\n",
       "5.54                0.195172                0.441634\n",
       "5.65                0.195172                0.441634\n",
       "5.70                0.195172                0.441634\n",
       "5.96                0.195172                0.441634\n",
       "6.43                0.000000                0.000000\n",
       "\n",
       "[63 rows x 2 columns]"
      ]
     },
     "execution_count": 14,
     "metadata": {},
     "output_type": "execute_result"
    }
   ],
   "source": [
    "print(\"Log Transformation of Confidence Interval ABF=Yes:\")\n",
    "confidence_interval_yes"
   ]
  },
  {
   "cell_type": "code",
   "execution_count": 51,
   "id": "2bbe0fe5-a6e2-433d-93c7-026e7c1b9e54",
   "metadata": {},
   "outputs": [
    {
     "name": "stdout",
     "output_type": "stream",
     "text": [
      "Log Transformation of Confidence Interval ABF=No:\n"
     ]
    },
    {
     "data": {
      "text/html": [
       "<div>\n",
       "<style scoped>\n",
       "    .dataframe tbody tr th:only-of-type {\n",
       "        vertical-align: middle;\n",
       "    }\n",
       "\n",
       "    .dataframe tbody tr th {\n",
       "        vertical-align: top;\n",
       "    }\n",
       "\n",
       "    .dataframe thead th {\n",
       "        text-align: right;\n",
       "    }\n",
       "</style>\n",
       "<table border=\"1\" class=\"dataframe\">\n",
       "  <thead>\n",
       "    <tr style=\"text-align: right;\">\n",
       "      <th></th>\n",
       "      <th>KM_estimate_lower_0.95</th>\n",
       "      <th>KM_estimate_upper_0.95</th>\n",
       "    </tr>\n",
       "  </thead>\n",
       "  <tbody>\n",
       "    <tr>\n",
       "      <th>0.00</th>\n",
       "      <td>0.968628</td>\n",
       "      <td>0.993587</td>\n",
       "    </tr>\n",
       "    <tr>\n",
       "      <th>0.01</th>\n",
       "      <td>0.933150</td>\n",
       "      <td>0.972911</td>\n",
       "    </tr>\n",
       "    <tr>\n",
       "      <th>0.02</th>\n",
       "      <td>0.908081</td>\n",
       "      <td>0.955672</td>\n",
       "    </tr>\n",
       "    <tr>\n",
       "      <th>0.03</th>\n",
       "      <td>0.894472</td>\n",
       "      <td>0.945764</td>\n",
       "    </tr>\n",
       "    <tr>\n",
       "      <th>0.04</th>\n",
       "      <td>0.891771</td>\n",
       "      <td>0.943761</td>\n",
       "    </tr>\n",
       "    <tr>\n",
       "      <th>...</th>\n",
       "      <td>...</td>\n",
       "      <td>...</td>\n",
       "    </tr>\n",
       "    <tr>\n",
       "      <th>5.94</th>\n",
       "      <td>0.345753</td>\n",
       "      <td>0.565624</td>\n",
       "    </tr>\n",
       "    <tr>\n",
       "      <th>5.95</th>\n",
       "      <td>0.345753</td>\n",
       "      <td>0.565624</td>\n",
       "    </tr>\n",
       "    <tr>\n",
       "      <th>6.00</th>\n",
       "      <td>0.345753</td>\n",
       "      <td>0.565624</td>\n",
       "    </tr>\n",
       "    <tr>\n",
       "      <th>6.44</th>\n",
       "      <td>0.021751</td>\n",
       "      <td>0.568185</td>\n",
       "    </tr>\n",
       "    <tr>\n",
       "      <th>6.46</th>\n",
       "      <td>0.000000</td>\n",
       "      <td>0.000000</td>\n",
       "    </tr>\n",
       "  </tbody>\n",
       "</table>\n",
       "<p>246 rows × 2 columns</p>\n",
       "</div>"
      ],
      "text/plain": [
       "      KM_estimate_lower_0.95  KM_estimate_upper_0.95\n",
       "0.00                0.968628                0.993587\n",
       "0.01                0.933150                0.972911\n",
       "0.02                0.908081                0.955672\n",
       "0.03                0.894472                0.945764\n",
       "0.04                0.891771                0.943761\n",
       "...                      ...                     ...\n",
       "5.94                0.345753                0.565624\n",
       "5.95                0.345753                0.565624\n",
       "6.00                0.345753                0.565624\n",
       "6.44                0.021751                0.568185\n",
       "6.46                0.000000                0.000000\n",
       "\n",
       "[246 rows x 2 columns]"
      ]
     },
     "execution_count": 26,
     "metadata": {},
     "output_type": "execute_result"
    }
   ],
   "source": [
    "print(\"Log Transformation of Confidence Interval ABF=No:\")\n",
    "confidence_interval_no"
   ]
  },
  {
   "cell_type": "code",
   "execution_count": 18,
   "id": "608b3025-3a65-4600-b4c7-a93a9d62b676",
   "metadata": {},
   "outputs": [
    {
     "data": {
      "text/plain": [
       "1    0.641\n",
       "3    0.455\n",
       "5    0.315\n",
       "Name: KM_estimate, dtype: float64"
      ]
     },
     "execution_count": 13,
     "metadata": {},
     "output_type": "execute_result"
    }
   ],
   "source": [
    "kmf_yes.predict([1,3,5]).round(3)"
   ]
  },
  {
   "cell_type": "code",
   "execution_count": 20,
   "id": "c5462d0c-de50-4547-a850-cdb340b1f715",
   "metadata": {},
   "outputs": [
    {
     "name": "stderr",
     "output_type": "stream",
     "text": [
      "/home/kzvq579/.local/lib/python3.9/site-packages/lifelines/fitters/__init__.py:271: ApproximationWarning: Approximating using `survival_function_`. To increase accuracy, try using or increasing the resolution of the timeline kwarg in `.fit(..., timeline=timeline)`.\n",
      "\n",
      "  warnings.warn(\n"
     ]
    },
    {
     "data": {
      "text/html": [
       "<div>\n",
       "<style scoped>\n",
       "    .dataframe tbody tr th:only-of-type {\n",
       "        vertical-align: middle;\n",
       "    }\n",
       "\n",
       "    .dataframe tbody tr th {\n",
       "        vertical-align: top;\n",
       "    }\n",
       "\n",
       "    .dataframe thead th {\n",
       "        text-align: right;\n",
       "    }\n",
       "</style>\n",
       "<table border=\"1\" class=\"dataframe\">\n",
       "  <thead>\n",
       "    <tr style=\"text-align: right;\">\n",
       "      <th></th>\n",
       "      <th>KM_estimate</th>\n",
       "    </tr>\n",
       "  </thead>\n",
       "  <tbody>\n",
       "    <tr>\n",
       "      <th>0.25</th>\n",
       "      <td>6.43</td>\n",
       "    </tr>\n",
       "    <tr>\n",
       "      <th>0.50</th>\n",
       "      <td>2.37</td>\n",
       "    </tr>\n",
       "    <tr>\n",
       "      <th>0.75</th>\n",
       "      <td>0.26</td>\n",
       "    </tr>\n",
       "  </tbody>\n",
       "</table>\n",
       "</div>"
      ],
      "text/plain": [
       "      KM_estimate\n",
       "0.25         6.43\n",
       "0.50         2.37\n",
       "0.75         0.26"
      ]
     },
     "execution_count": 14,
     "metadata": {},
     "output_type": "execute_result"
    }
   ],
   "source": [
    "kmf_yes.percentile([0.25,0.50,0.75])"
   ]
  },
  {
   "cell_type": "code",
   "execution_count": 34,
   "id": "a79c3671-ce6c-4387-9885-f0685f30250a",
   "metadata": {},
   "outputs": [
    {
     "data": {
      "text/plain": [
       "2.37"
      ]
     },
     "execution_count": 21,
     "metadata": {},
     "output_type": "execute_result"
    }
   ],
   "source": [
    "kmf_yes.median_survival_time_"
   ]
  },
  {
   "cell_type": "code",
   "execution_count": 22,
   "id": "72582ee8-4b2a-4b58-b677-40f45b72118a",
   "metadata": {},
   "outputs": [
    {
     "data": {
      "text/plain": [
       "1    0.739\n",
       "3    0.642\n",
       "5    0.530\n",
       "Name: KM_estimate, dtype: float64"
      ]
     },
     "execution_count": 15,
     "metadata": {},
     "output_type": "execute_result"
    }
   ],
   "source": [
    "kmf_no.predict([1,3,5]).round(3)"
   ]
  },
  {
   "cell_type": "code",
   "execution_count": 24,
   "id": "1123f2b4-498b-4a1f-b680-87abb1d0757e",
   "metadata": {},
   "outputs": [
    {
     "name": "stderr",
     "output_type": "stream",
     "text": [
      "/home/kzvq579/.local/lib/python3.9/site-packages/lifelines/fitters/__init__.py:271: ApproximationWarning: Approximating using `survival_function_`. To increase accuracy, try using or increasing the resolution of the timeline kwarg in `.fit(..., timeline=timeline)`.\n",
      "\n",
      "  warnings.warn(\n"
     ]
    },
    {
     "data": {
      "text/html": [
       "<div>\n",
       "<style scoped>\n",
       "    .dataframe tbody tr th:only-of-type {\n",
       "        vertical-align: middle;\n",
       "    }\n",
       "\n",
       "    .dataframe tbody tr th {\n",
       "        vertical-align: top;\n",
       "    }\n",
       "\n",
       "    .dataframe thead th {\n",
       "        text-align: right;\n",
       "    }\n",
       "</style>\n",
       "<table border=\"1\" class=\"dataframe\">\n",
       "  <thead>\n",
       "    <tr style=\"text-align: right;\">\n",
       "      <th></th>\n",
       "      <th>KM_estimate</th>\n",
       "    </tr>\n",
       "  </thead>\n",
       "  <tbody>\n",
       "    <tr>\n",
       "      <th>0.25</th>\n",
       "      <td>6.44</td>\n",
       "    </tr>\n",
       "    <tr>\n",
       "      <th>0.50</th>\n",
       "      <td>5.91</td>\n",
       "    </tr>\n",
       "    <tr>\n",
       "      <th>0.75</th>\n",
       "      <td>0.94</td>\n",
       "    </tr>\n",
       "  </tbody>\n",
       "</table>\n",
       "</div>"
      ],
      "text/plain": [
       "      KM_estimate\n",
       "0.25         6.44\n",
       "0.50         5.91\n",
       "0.75         0.94"
      ]
     },
     "execution_count": 16,
     "metadata": {},
     "output_type": "execute_result"
    }
   ],
   "source": [
    "kmf_no.percentile([0.25,0.50,0.75])"
   ]
  },
  {
   "cell_type": "code",
   "execution_count": 36,
   "id": "52adf252-2283-4f45-bf45-c5a5ddae9e9e",
   "metadata": {},
   "outputs": [
    {
     "data": {
      "text/plain": [
       "5.91"
      ]
     },
     "execution_count": 22,
     "metadata": {},
     "output_type": "execute_result"
    }
   ],
   "source": [
    "kmf_no.median_survival_time_"
   ]
  }
 ],
 "metadata": {
  "kernelspec": {
   "display_name": "XeusPython-3.9.5-foss-2021a",
   "language": "python",
   "name": "xeuspython-3.9.5-foss-2021a"
  },
  "language_info": {
   "file_extension": ".py",
   "mimetype": "text/x-python",
   "name": "python",
   "version": "3.9.5"
  }
 },
 "nbformat": 4,
 "nbformat_minor": 5
}
